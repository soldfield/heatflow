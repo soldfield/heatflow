{
 "cells": [
  {
   "cell_type": "markdown",
   "metadata": {},
   "source": [
    "# Gmesh experiements\n",
    "\n",
    "Script to experiment with making a geometry with boundary conidtions, using gmesh"
   ]
  },
  {
   "cell_type": "code",
   "execution_count": 3,
   "metadata": {},
   "outputs": [],
   "source": [
    "import matplotlib.pyplot as plt\n",
    "import pygimli.meshtools as mt\n",
    "import numpy as np\n",
    "import gmsh as gm\n",
    "import pygimli as pg\n"
   ]
  },
  {
   "cell_type": "code",
   "execution_count": 6,
   "metadata": {},
   "outputs": [
    {
     "name": "stdout",
     "output_type": "stream",
     "text": [
      "Gmsh needs to be installed for this example.\n"
     ]
    },
    {
     "data": {
      "image/png": "[encoded data removed]",
      "text/plain": [
       "<Figure size 432x288 with 1 Axes>"
      ]
     },
     "metadata": {
      "needs_background": "light"
     },
     "output_type": "display_data"
    }
   ],
   "source": [
    "import subprocess\n",
    "from pygimli.meshtools import readGmsh\n",
    "\n",
    "\n",
    "filename = pg.getExampleFile(\"gmsh/2d_tutorial.geo\")\n",
    "\n",
    "try:\n",
    "    subprocess.call(\n",
    "        [\"gmsh\", \"-format\", \"msh2\", \"-2\", \"-o\", \"mesh.msh\", filename])\n",
    "    gmsh = True\n",
    "except OSError:\n",
    "    print(\"Gmsh needs to be installed for this example.\")\n",
    "    gmsh = False\n",
    "\n",
    "fig, ax = plt.subplots()\n",
    "if gmsh:\n",
    "    mesh = readGmsh(\"mesh.msh\", verbose=True)\n",
    "    pg.show(mesh, ax=ax, markers=True, clipBoundaryMarkers=True)\n",
    "    ax.set_xlim(-3, 53)\n",
    "    ax.set_ylim(-53, 3)\n",
    "else:\n",
    "    ax.set_title(\"Gmsh needs to be installed for this example\")\n",
    "pg.wait()"
   ]
  },
  {
   "cell_type": "code",
   "execution_count": null,
   "metadata": {},
   "outputs": [],
   "source": []
  }
 ],
 "metadata": {
  "interpreter": {
   "hash": "888c1917c0e60de59d2518d240747512d9b2cdfe60a8d121cf764ccc046be065"
  },
  "kernelspec": {
   "display_name": "Python 3.8.12 ('pg')",
   "language": "python",
   "name": "python3"
  },
  "language_info": {
   "codemirror_mode": {
    "name": "ipython",
    "version": 3
   },
   "file_extension": ".py",
   "mimetype": "text/x-python",
   "name": "python",
   "nbconvert_exporter": "python",
   "pygments_lexer": "ipython3",
   "version": "3.8.12"
  },
  "orig_nbformat": 4
 },
 "nbformat": 4,
 "nbformat_minor": 2
}
